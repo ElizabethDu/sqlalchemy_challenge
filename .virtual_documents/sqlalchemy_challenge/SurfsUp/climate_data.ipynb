%matplotlib inline
from matplotlib import style
style.use('fivethirtyeight')
import matplotlib.pyplot as plt


import numpy as np
import pandas as pd
import datetime as dt





# Python SQL toolkit and Object Relational Mapper
import sqlalchemy
from sqlalchemy.ext.automap import automap_base
from sqlalchemy.orm import Session
from sqlalchemy import create_engine, func


# create engine to hawaii.sqlite
engine = create_engine("sqlite:///Resources/hawaii.sqlite")


# reflect an existing database into a new model
Base = automap_base()

# reflect the tables
Base.prepare(autoload_with=engine)


# View all of the classes that automap found
Base.classes.keys()


# Save references to each table
Measurement = Base.classes.measurement
Station = Base.classes.station


# Create our session (link) from Python to the DB
session = Session(bind=engine)





# Find the most recent date in the data set.
date_finder = session.query(Measurement.date)
date_finder_max = max(date_finder)
date_finder_max


# Design a query to retrieve the last 12 months of precipitation data and plot the results. 
# Starting from the most recent data point in the database. 
max_date = dt.datetime.strptime(date_finder_max[0], "%Y-%m-%d")

# Calculate the date one year from the last date in data set.
min_date = max_date - dt.timedelta(days=366)

# Perform a query to retrieve the data and precipitation scores
prec_data = session.query(Measurement.date, Measurement.prcp).\
    filter(Measurement.date <= max_date).\
    filter(Measurement.date >= min_date)

# Save the query results as a Pandas DataFrame. Explicitly set the column names
df = pd.DataFrame(prec_data, columns = ["Date", "Precipitation"])

# Sort the dataframe by date
df['Date'] = pd.to_datetime(df['Date'], format='%Y-%m-%d')
df.sort_values(by="Date")

# Use Pandas Plotting with Matplotlib to plot the data
df.set_index('Date', inplace=True)
df.plot()
plt.legend(loc=9)
plt.ylabel('Inches')
plt.tight_layout()
plt.xticks(rotation=90)

plt.show()


# Use Pandas to calculate the summary statistics for the precipitation data
df.describe()





# Design a query to calculate the total number of stations in the dataset
station_count = session.query(Measurement.station).group_by(Measurement.station).count()
print(station_count)


# Design a query to find the most active stations (i.e. which stations have the most rows?)
# List the stations and their counts in descending order.
station_data = session.query(Measurement.station).\
    group_by(Measurement.station).\
    order_by(func.count(Measurement.station).desc()).first()
station_data


# Using the most active station id from the previous query, calculate the lowest, highest, and average temperature.
most_active = station_data[0]

most_active_data = session.query(func.min(Measurement.tobs), \
        func.max(Measurement.tobs),func.avg(Measurement.tobs)).\
        filter(Measurement.station == most_active).first()
most_active_data


# Using the most active station id
# Query the last 12 months of temperature observation data for this station and plot the results as a histogram
most_active_date = session.query(Measurement.tobs).\
    filter(Measurement.station == most_active).\
    filter(Measurement.date <=max_date).\
    filter(Measurement.date >=min_date).\
    all()

# Create Data Frame
most_active_df = pd.DataFrame(most_active_date, columns = ['tobs'])

# Create histogram 
fig, ax = plt.subplots()

ax.hist(most_active_df, 12)
plt.xlabel('Temperature')
plt.ylabel('Frequency')
plt.legend(most_active_df, loc=1)
plt.show()





# Close Session
session.close()



